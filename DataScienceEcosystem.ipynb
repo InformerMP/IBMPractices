{
 "cells": [
  {
   "cell_type": "markdown",
   "id": "24114d19-7bc4-4965-98d8-e51a16884218",
   "metadata": {},
   "source": [
    "# Data Science Tools and Ecosystem"
   ]
  },
  {
   "cell_type": "markdown",
   "id": "28d2734f-4f24-48b0-942e-c34a545a4170",
   "metadata": {},
   "source": [
    "In this notebook, Data Science Tools and Ecosystem are summarized."
   ]
  },
  {
   "cell_type": "markdown",
   "id": "f1f7cd5e-654c-44e5-a988-87bbd7be1f8e",
   "metadata": {
    "tags": []
   },
   "source": [
    "<strong>Objectives:</strong>\n",
    "+ List popular langauges in Data Science\n",
    "+ List some of the commonly used libraries used by Data Scientists\n",
    "+ list some of the important data science tools"
   ]
  },
  {
   "cell_type": "markdown",
   "id": "00d21ef0-c7c4-4fee-b71d-503a42c9d964",
   "metadata": {},
   "source": [
    "Some of the popular languages that Data Scientists use are:\n",
    "<br>1.Python\n",
    "<br>2.R\n",
    "<br>3.Julia\n",
    "<br>4.SQL\n",
    "<br>5.Java"
   ]
  },
  {
   "cell_type": "markdown",
   "id": "d6212cb5-0f6b-45db-afe9-8a3c5464d8e1",
   "metadata": {},
   "source": [
    "Some of the commonly used libraries used by Data Scientists include:\n",
    "<br> 1.Numpy\n",
    "<br> 2. matplotlib\n",
    "<br> 3. pandas\n",
    "<br> 4.PyTorch\n",
    "<br> 5.Scikit-learn"
   ]
  },
  {
   "cell_type": "markdown",
   "id": "d41c8719-b9d1-4958-a8b4-7c18dc9906bc",
   "metadata": {},
   "source": [
    "| Data Science Tools |\n",
    "|:------------------:|\n",
    "|   Apache Spark     |\n",
    "|    Tensorflow      |\n",
    "|   Apache HADOOP    |\n",
    "|      RStudio       |"
   ]
  },
  {
   "cell_type": "markdown",
   "id": "cf827bd0-ba5b-441d-b0c4-cb26afe04ad8",
   "metadata": {
    "tags": []
   },
   "source": [
    "### Below are a few examples of evaluating arithmetic expressions in Python"
   ]
  },
  {
   "cell_type": "code",
   "execution_count": 2,
   "id": "e3777285-3a56-4d94-a987-afb9b3aff5a4",
   "metadata": {
    "tags": []
   },
   "outputs": [
    {
     "data": {
      "text/plain": [
       "3.3333333333333335"
      ]
     },
     "execution_count": 2,
     "metadata": {},
     "output_type": "execute_result"
    }
   ],
   "source": [
    "# This will convert 200 minutes to hours by diving by 60\n",
    "\n",
    "200/60"
   ]
  },
  {
   "cell_type": "markdown",
   "id": "98778a3f-234f-40ac-99f1-e9ca3f758772",
   "metadata": {},
   "source": [
    "## Author\n",
    "Mohammad Pirouz"
   ]
  },
  {
   "cell_type": "code",
   "execution_count": null,
   "id": "524c2508-98d3-4f52-ad3f-29ed9b4bb2bc",
   "metadata": {},
   "outputs": [],
   "source": []
  }
 ],
 "metadata": {
  "kernelspec": {
   "display_name": "Python 3 (ipykernel)",
   "language": "python",
   "name": "python3"
  },
  "language_info": {
   "codemirror_mode": {
    "name": "ipython",
    "version": 3
   },
   "file_extension": ".py",
   "mimetype": "text/x-python",
   "name": "python",
   "nbconvert_exporter": "python",
   "pygments_lexer": "ipython3",
   "version": "3.11.3"
  }
 },
 "nbformat": 4,
 "nbformat_minor": 5
}
